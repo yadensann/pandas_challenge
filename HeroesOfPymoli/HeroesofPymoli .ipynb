{
 "cells": [
  {
   "cell_type": "markdown",
   "metadata": {},
   "source": [
    "### Note\n",
    "* Instructions have been included for each segment. You do not have to follow them exactly, but they are included to help you think through the steps."
   ]
  },
  {
   "cell_type": "code",
   "execution_count": 2,
   "metadata": {},
   "outputs": [
    {
     "data": {
      "text/html": [
       "<div>\n",
       "<style scoped>\n",
       "    .dataframe tbody tr th:only-of-type {\n",
       "        vertical-align: middle;\n",
       "    }\n",
       "\n",
       "    .dataframe tbody tr th {\n",
       "        vertical-align: top;\n",
       "    }\n",
       "\n",
       "    .dataframe thead th {\n",
       "        text-align: right;\n",
       "    }\n",
       "</style>\n",
       "<table border=\"1\" class=\"dataframe\">\n",
       "  <thead>\n",
       "    <tr style=\"text-align: right;\">\n",
       "      <th></th>\n",
       "      <th>Purchase ID</th>\n",
       "      <th>SN</th>\n",
       "      <th>Age</th>\n",
       "      <th>Gender</th>\n",
       "      <th>Item ID</th>\n",
       "      <th>Item Name</th>\n",
       "      <th>Price</th>\n",
       "    </tr>\n",
       "  </thead>\n",
       "  <tbody>\n",
       "    <tr>\n",
       "      <td>0</td>\n",
       "      <td>0</td>\n",
       "      <td>Lisim78</td>\n",
       "      <td>20</td>\n",
       "      <td>Male</td>\n",
       "      <td>108</td>\n",
       "      <td>Extraction, Quickblade Of Trembling Hands</td>\n",
       "      <td>3.53</td>\n",
       "    </tr>\n",
       "    <tr>\n",
       "      <td>1</td>\n",
       "      <td>1</td>\n",
       "      <td>Lisovynya38</td>\n",
       "      <td>40</td>\n",
       "      <td>Male</td>\n",
       "      <td>143</td>\n",
       "      <td>Frenzied Scimitar</td>\n",
       "      <td>1.56</td>\n",
       "    </tr>\n",
       "    <tr>\n",
       "      <td>2</td>\n",
       "      <td>2</td>\n",
       "      <td>Ithergue48</td>\n",
       "      <td>24</td>\n",
       "      <td>Male</td>\n",
       "      <td>92</td>\n",
       "      <td>Final Critic</td>\n",
       "      <td>4.88</td>\n",
       "    </tr>\n",
       "    <tr>\n",
       "      <td>3</td>\n",
       "      <td>3</td>\n",
       "      <td>Chamassasya86</td>\n",
       "      <td>24</td>\n",
       "      <td>Male</td>\n",
       "      <td>100</td>\n",
       "      <td>Blindscythe</td>\n",
       "      <td>3.27</td>\n",
       "    </tr>\n",
       "    <tr>\n",
       "      <td>4</td>\n",
       "      <td>4</td>\n",
       "      <td>Iskosia90</td>\n",
       "      <td>23</td>\n",
       "      <td>Male</td>\n",
       "      <td>131</td>\n",
       "      <td>Fury</td>\n",
       "      <td>1.44</td>\n",
       "    </tr>\n",
       "  </tbody>\n",
       "</table>\n",
       "</div>"
      ],
      "text/plain": [
       "   Purchase ID             SN  Age Gender  Item ID  \\\n",
       "0            0        Lisim78   20   Male      108   \n",
       "1            1    Lisovynya38   40   Male      143   \n",
       "2            2     Ithergue48   24   Male       92   \n",
       "3            3  Chamassasya86   24   Male      100   \n",
       "4            4      Iskosia90   23   Male      131   \n",
       "\n",
       "                                   Item Name  Price  \n",
       "0  Extraction, Quickblade Of Trembling Hands   3.53  \n",
       "1                          Frenzied Scimitar   1.56  \n",
       "2                               Final Critic   4.88  \n",
       "3                                Blindscythe   3.27  \n",
       "4                                       Fury   1.44  "
      ]
     },
     "execution_count": 2,
     "metadata": {},
     "output_type": "execute_result"
    }
   ],
   "source": [
    "# Dependencies and Setup\n",
    "import pandas as pd\n",
    "import numpy as np\n",
    "\n",
    "# File to Load (Remember to Change These)\n",
    "file_to_load = \"/Users/yaden/desktop/pandas_challenge/Resources/purchase_data.csv\"\n",
    "\n",
    "# Read Purchasing File and store into Pandas data frame\n",
    "purchase_data = pd.read_csv(file_to_load)\n",
    "purchase_data.head()"
   ]
  },
  {
   "cell_type": "markdown",
   "metadata": {},
   "source": [
    "## Player Count"
   ]
  },
  {
   "cell_type": "markdown",
   "metadata": {},
   "source": [
    "* Display the total number of players\n"
   ]
  },
  {
   "cell_type": "code",
   "execution_count": 503,
   "metadata": {},
   "outputs": [
    {
     "data": {
      "text/html": [
       "<div>\n",
       "<style scoped>\n",
       "    .dataframe tbody tr th:only-of-type {\n",
       "        vertical-align: middle;\n",
       "    }\n",
       "\n",
       "    .dataframe tbody tr th {\n",
       "        vertical-align: top;\n",
       "    }\n",
       "\n",
       "    .dataframe thead th {\n",
       "        text-align: right;\n",
       "    }\n",
       "</style>\n",
       "<table border=\"1\" class=\"dataframe\">\n",
       "  <thead>\n",
       "    <tr style=\"text-align: right;\">\n",
       "      <th></th>\n",
       "      <th>Gender</th>\n",
       "      <th>SN</th>\n",
       "      <th>Age</th>\n",
       "    </tr>\n",
       "  </thead>\n",
       "  <tbody>\n",
       "    <tr>\n",
       "      <td>0</td>\n",
       "      <td>Male</td>\n",
       "      <td>Lisim78</td>\n",
       "      <td>20</td>\n",
       "    </tr>\n",
       "    <tr>\n",
       "      <td>1</td>\n",
       "      <td>Male</td>\n",
       "      <td>Lisovynya38</td>\n",
       "      <td>40</td>\n",
       "    </tr>\n",
       "    <tr>\n",
       "      <td>2</td>\n",
       "      <td>Male</td>\n",
       "      <td>Ithergue48</td>\n",
       "      <td>24</td>\n",
       "    </tr>\n",
       "    <tr>\n",
       "      <td>3</td>\n",
       "      <td>Male</td>\n",
       "      <td>Chamassasya86</td>\n",
       "      <td>24</td>\n",
       "    </tr>\n",
       "    <tr>\n",
       "      <td>4</td>\n",
       "      <td>Male</td>\n",
       "      <td>Iskosia90</td>\n",
       "      <td>23</td>\n",
       "    </tr>\n",
       "  </tbody>\n",
       "</table>\n",
       "</div>"
      ],
      "text/plain": [
       "  Gender             SN  Age\n",
       "0   Male        Lisim78   20\n",
       "1   Male    Lisovynya38   40\n",
       "2   Male     Ithergue48   24\n",
       "3   Male  Chamassasya86   24\n",
       "4   Male      Iskosia90   23"
      ]
     },
     "execution_count": 503,
     "metadata": {},
     "output_type": "execute_result"
    }
   ],
   "source": [
    "# Organize data with gender, screen name, and age columns\n",
    "organized_data = purchase_data[[\"Gender\",\"SN\",\"Age\"]]\n",
    "\n",
    "organized_data.head()\n"
   ]
  },
  {
   "cell_type": "code",
   "execution_count": 500,
   "metadata": {},
   "outputs": [
    {
     "data": {
      "text/html": [
       "<div>\n",
       "<style scoped>\n",
       "    .dataframe tbody tr th:only-of-type {\n",
       "        vertical-align: middle;\n",
       "    }\n",
       "\n",
       "    .dataframe tbody tr th {\n",
       "        vertical-align: top;\n",
       "    }\n",
       "\n",
       "    .dataframe thead th {\n",
       "        text-align: right;\n",
       "    }\n",
       "</style>\n",
       "<table border=\"1\" class=\"dataframe\">\n",
       "  <thead>\n",
       "    <tr style=\"text-align: right;\">\n",
       "      <th></th>\n",
       "      <th>Total Number of Players</th>\n",
       "    </tr>\n",
       "  </thead>\n",
       "  <tbody>\n",
       "    <tr>\n",
       "      <td>0</td>\n",
       "      <td>576</td>\n",
       "    </tr>\n",
       "  </tbody>\n",
       "</table>\n",
       "</div>"
      ],
      "text/plain": [
       "   Total Number of Players\n",
       "0                      576"
      ]
     },
     "execution_count": 500,
     "metadata": {},
     "output_type": "execute_result"
    }
   ],
   "source": [
    "# Filter organized data by screen name to find total amount of players\n",
    "players = organized_data.drop_duplicates()\n",
    "\n",
    "total_players = len(players[\"SN\"].value_counts())\n",
    "\n",
    "# Make new dataframe to show total amount of players\n",
    "total_players_table = pd.DataFrame({\"Total Number of Players\": [total_players]})\n",
    "\n",
    "total_players_table.head()"
   ]
  },
  {
   "cell_type": "markdown",
   "metadata": {},
   "source": [
    "## Purchasing Analysis (Total)"
   ]
  },
  {
   "cell_type": "markdown",
   "metadata": {},
   "source": [
    "* Run basic calculations to obtain number of unique items, average price, etc.\n",
    "\n",
    "\n",
    "* Create a summary data frame to hold the results\n",
    "\n",
    "\n",
    "* Optional: give the displayed data cleaner formatting\n",
    "\n",
    "\n",
    "* Display the summary data frame\n"
   ]
  },
  {
   "cell_type": "code",
   "execution_count": 516,
   "metadata": {},
   "outputs": [
    {
     "data": {
      "text/html": [
       "<style  type=\"text/css\" >\n",
       "</style><table id=\"T_2e336512_06cf_11eb_a449_d0a637edc775\" ><thead>    <tr>        <th class=\"blank level0\" ></th>        <th class=\"col_heading level0 col0\" >Total Unique Items</th>        <th class=\"col_heading level0 col1\" >Average Purchase Price</th>        <th class=\"col_heading level0 col2\" >Total Number of Purchases</th>        <th class=\"col_heading level0 col3\" >Total Revenue</th>    </tr></thead><tbody>\n",
       "                <tr>\n",
       "                        <th id=\"T_2e336512_06cf_11eb_a449_d0a637edc775level0_row0\" class=\"row_heading level0 row0\" >0</th>\n",
       "                        <td id=\"T_2e336512_06cf_11eb_a449_d0a637edc775row0_col0\" class=\"data row0 col0\" >179</td>\n",
       "                        <td id=\"T_2e336512_06cf_11eb_a449_d0a637edc775row0_col1\" class=\"data row0 col1\" >3.05</td>\n",
       "                        <td id=\"T_2e336512_06cf_11eb_a449_d0a637edc775row0_col2\" class=\"data row0 col2\" >780</td>\n",
       "                        <td id=\"T_2e336512_06cf_11eb_a449_d0a637edc775row0_col3\" class=\"data row0 col3\" >$2,379.77</td>\n",
       "            </tr>\n",
       "    </tbody></table>"
      ],
      "text/plain": [
       "<pandas.io.formats.style.Styler at 0x7fa75d39e910>"
      ]
     },
     "execution_count": 516,
     "metadata": {},
     "output_type": "execute_result"
    }
   ],
   "source": [
    "# Count number of unique items and find average purchase price, total # of purchases, and total revenue\n",
    "\n",
    "unique_items = len(purchase_data[\"Item Name\"].unique())\n",
    "average_price = purchase_data[\"Price\"].mean()\n",
    "total_number_purchases = purchase_data[\"Price\"].count()\n",
    "total_revenue = purchase_data[\"Price\"].sum()\n",
    "\n",
    "# print(total_revenue)\n",
    "# print(average_price)\n",
    "# print(total_number_purchases)\n",
    "# total_unique_items\n",
    "\n",
    "# Make new dataframe with obtained values\n",
    "summary_table=pd.DataFrame({\"Total Unique Items\":[unique_items],\n",
    "                           \"Average Purchase Price\":[average_price],\n",
    "                           \"Total Number of Purchases\": [total_number_purchases],\n",
    "                           \"Total Revenue\":[total_revenue]})\n",
    "summary_table=summary_table[[\"Total Unique Items\",\"Average Purchase Price\",\"Total Number of Purchases\",\"Total Revenue\"]]\n",
    "\n",
    "summary_table=summary_table.round(2)\n",
    "\n",
    "summary_table.style.format({\"Avg. Purchase Price\":\"${:,.2f}\",\n",
    "                           \"Total Revenue\":'${:,.2f}'})\n"
   ]
  },
  {
   "cell_type": "markdown",
   "metadata": {},
   "source": [
    "## Gender Demographics"
   ]
  },
  {
   "cell_type": "markdown",
   "metadata": {},
   "source": [
    "* Percentage and Count of Male Players\n",
    "\n",
    "\n",
    "* Percentage and Count of Female Players\n",
    "\n",
    "\n",
    "* Percentage and Count of Other / Non-Disclosed\n",
    "\n",
    "\n"
   ]
  },
  {
   "cell_type": "code",
   "execution_count": 504,
   "metadata": {},
   "outputs": [
    {
     "data": {
      "text/html": [
       "<div>\n",
       "<style scoped>\n",
       "    .dataframe tbody tr th:only-of-type {\n",
       "        vertical-align: middle;\n",
       "    }\n",
       "\n",
       "    .dataframe tbody tr th {\n",
       "        vertical-align: top;\n",
       "    }\n",
       "\n",
       "    .dataframe thead th {\n",
       "        text-align: right;\n",
       "    }\n",
       "</style>\n",
       "<table border=\"1\" class=\"dataframe\">\n",
       "  <thead>\n",
       "    <tr style=\"text-align: right;\">\n",
       "      <th></th>\n",
       "      <th>Total Count</th>\n",
       "      <th>Percentage of Players</th>\n",
       "    </tr>\n",
       "  </thead>\n",
       "  <tbody>\n",
       "    <tr>\n",
       "      <td>Male</td>\n",
       "      <td>484</td>\n",
       "      <td>84.03%</td>\n",
       "    </tr>\n",
       "    <tr>\n",
       "      <td>Female</td>\n",
       "      <td>81</td>\n",
       "      <td>14.06%</td>\n",
       "    </tr>\n",
       "    <tr>\n",
       "      <td>Other / Non-Disclosed</td>\n",
       "      <td>11</td>\n",
       "      <td>1.91%</td>\n",
       "    </tr>\n",
       "  </tbody>\n",
       "</table>\n",
       "</div>"
      ],
      "text/plain": [
       "                       Total Count  Percentage of Players\n",
       "Male                           484                 84.03%\n",
       "Female                          81                 14.06%\n",
       "Other / Non-Disclosed           11                  1.91%"
      ]
     },
     "execution_count": 504,
     "metadata": {},
     "output_type": "execute_result"
    }
   ],
   "source": [
    "total_gender = players[\"Gender\"].value_counts()\n",
    "# print(total_gender)\n",
    "\n",
    "percentage = total_gender /total_players * 100\n",
    "# print(percentage)\n",
    "\n",
    "\n",
    "\n",
    "gender_demographics=pd.DataFrame({\"Total Count\":total_gender,\n",
    "                                  \"Percentage of Players\":percentage})\n",
    "\n",
    "gender_demographics = gender_demographics.round(2)\n",
    "gender_demographics.head()\n"
   ]
  },
  {
   "cell_type": "markdown",
   "metadata": {},
   "source": [
    "\n",
    "## Purchasing Analysis (Gender)"
   ]
  },
  {
   "cell_type": "markdown",
   "metadata": {},
   "source": [
    "* Run basic calculations to obtain purchase count, avg. purchase price, avg. purchase total per person etc. by gender\n",
    "\n",
    "\n",
    "\n",
    "\n",
    "* Create a summary data frame to hold the results\n",
    "\n",
    "\n",
    "* Optional: give the displayed data cleaner formatting\n",
    "\n",
    "\n",
    "* Display the summary data frame"
   ]
  },
  {
   "cell_type": "code",
   "execution_count": 519,
   "metadata": {},
   "outputs": [
    {
     "data": {
      "text/html": [
       "<style  type=\"text/css\" >\n",
       "</style><table id=\"T_6e2d4354_06cf_11eb_a449_d0a637edc775\" ><thead>    <tr>        <th class=\"blank level0\" ></th>        <th class=\"col_heading level0 col0\" >Purchase Count</th>        <th class=\"col_heading level0 col1\" >Avg. Purchase Price</th>        <th class=\"col_heading level0 col2\" >Total Purchase Amount</th>        <th class=\"col_heading level0 col3\" >Avg. Purchase per Person</th>    </tr>    <tr>        <th class=\"index_name level0\" >Gender</th>        <th class=\"blank\" ></th>        <th class=\"blank\" ></th>        <th class=\"blank\" ></th>        <th class=\"blank\" ></th>    </tr></thead><tbody>\n",
       "                <tr>\n",
       "                        <th id=\"T_6e2d4354_06cf_11eb_a449_d0a637edc775level0_row0\" class=\"row_heading level0 row0\" >Female</th>\n",
       "                        <td id=\"T_6e2d4354_06cf_11eb_a449_d0a637edc775row0_col0\" class=\"data row0 col0\" >113</td>\n",
       "                        <td id=\"T_6e2d4354_06cf_11eb_a449_d0a637edc775row0_col1\" class=\"data row0 col1\" >$3.20</td>\n",
       "                        <td id=\"T_6e2d4354_06cf_11eb_a449_d0a637edc775row0_col2\" class=\"data row0 col2\" >$361.94</td>\n",
       "                        <td id=\"T_6e2d4354_06cf_11eb_a449_d0a637edc775row0_col3\" class=\"data row0 col3\" >$3.95</td>\n",
       "            </tr>\n",
       "            <tr>\n",
       "                        <th id=\"T_6e2d4354_06cf_11eb_a449_d0a637edc775level0_row1\" class=\"row_heading level0 row1\" >Male</th>\n",
       "                        <td id=\"T_6e2d4354_06cf_11eb_a449_d0a637edc775row1_col0\" class=\"data row1 col0\" >652</td>\n",
       "                        <td id=\"T_6e2d4354_06cf_11eb_a449_d0a637edc775row1_col1\" class=\"data row1 col1\" >$3.02</td>\n",
       "                        <td id=\"T_6e2d4354_06cf_11eb_a449_d0a637edc775row1_col2\" class=\"data row1 col2\" >$1,967.64</td>\n",
       "                        <td id=\"T_6e2d4354_06cf_11eb_a449_d0a637edc775row1_col3\" class=\"data row1 col3\" >$0.62</td>\n",
       "            </tr>\n",
       "            <tr>\n",
       "                        <th id=\"T_6e2d4354_06cf_11eb_a449_d0a637edc775level0_row2\" class=\"row_heading level0 row2\" >Other / Non-Disclosed</th>\n",
       "                        <td id=\"T_6e2d4354_06cf_11eb_a449_d0a637edc775row2_col0\" class=\"data row2 col0\" >15</td>\n",
       "                        <td id=\"T_6e2d4354_06cf_11eb_a449_d0a637edc775row2_col1\" class=\"data row2 col1\" >$3.35</td>\n",
       "                        <td id=\"T_6e2d4354_06cf_11eb_a449_d0a637edc775row2_col2\" class=\"data row2 col2\" >$50.19</td>\n",
       "                        <td id=\"T_6e2d4354_06cf_11eb_a449_d0a637edc775row2_col3\" class=\"data row2 col3\" >$30.42</td>\n",
       "            </tr>\n",
       "    </tbody></table>"
      ],
      "text/plain": [
       "<pandas.io.formats.style.Styler at 0x7fa75d55c990>"
      ]
     },
     "execution_count": 519,
     "metadata": {},
     "output_type": "execute_result"
    }
   ],
   "source": [
    "purchase_count = purchase_data.groupby([\"Gender\"]).count()['Price']\n",
    "average_purchase = purchase_data.groupby(['Gender']).mean()['Price']\n",
    "purchase_total_per_person = average_purchase / total_gender * 100\n",
    "total_purchase_value = purchase_data.groupby([\"Gender\"]).sum()['Price']\n",
    "\n",
    "summary_analysis = pd.DataFrame({\"Purchase Count\":purchase_count,\n",
    "                                 \"Avg. Purchase Price\": average_purchase,\n",
    "                                \"Total Purchase Amount\": total_purchase_value, \n",
    "                                 \"Avg. Purchase per Person\": purchase_total_per_person})\n",
    "\n",
    "summary_analysis.round(2)\n",
    "\n",
    "summary_analysis.style.format({\"Avg. Purchase Price\":\"${:,.2f}\",\n",
    "                               \"Avg. Purchase per Person\":'${:,.2f}',\n",
    "                           \"Total Purchase Amount\":'${:,.2f}'})\n"
   ]
  },
  {
   "cell_type": "markdown",
   "metadata": {},
   "source": [
    "## Age Demographics"
   ]
  },
  {
   "cell_type": "markdown",
   "metadata": {},
   "source": [
    "* Establish bins for ages\n",
    "\n",
    "\n",
    "* Categorize the existing players using the age bins. Hint: use pd.cut()\n",
    "\n",
    "\n",
    "* Calculate the numbers and percentages by age group\n",
    "\n",
    "\n",
    "* Create a summary data frame to hold the results\n",
    "\n",
    "\n",
    "* Optional: round the percentage column to two decimal points\n",
    "\n",
    "\n",
    "* Display Age Demographics Table\n"
   ]
  },
  {
   "cell_type": "code",
   "execution_count": 514,
   "metadata": {},
   "outputs": [
    {
     "data": {
      "text/html": [
       "<div>\n",
       "<style scoped>\n",
       "    .dataframe tbody tr th:only-of-type {\n",
       "        vertical-align: middle;\n",
       "    }\n",
       "\n",
       "    .dataframe tbody tr th {\n",
       "        vertical-align: top;\n",
       "    }\n",
       "\n",
       "    .dataframe thead th {\n",
       "        text-align: right;\n",
       "    }\n",
       "</style>\n",
       "<table border=\"1\" class=\"dataframe\">\n",
       "  <thead>\n",
       "    <tr style=\"text-align: right;\">\n",
       "      <th></th>\n",
       "      <th>Percentage of Total</th>\n",
       "      <th>Total Count</th>\n",
       "    </tr>\n",
       "  </thead>\n",
       "  <tbody>\n",
       "    <tr>\n",
       "      <td>0-10</td>\n",
       "      <td>4.17%</td>\n",
       "      <td>24</td>\n",
       "    </tr>\n",
       "    <tr>\n",
       "      <td>10-14</td>\n",
       "      <td>7.12%</td>\n",
       "      <td>41</td>\n",
       "    </tr>\n",
       "    <tr>\n",
       "      <td>15-19</td>\n",
       "      <td>26.04%</td>\n",
       "      <td>150</td>\n",
       "    </tr>\n",
       "    <tr>\n",
       "      <td>20-24</td>\n",
       "      <td>40.28%</td>\n",
       "      <td>232</td>\n",
       "    </tr>\n",
       "    <tr>\n",
       "      <td>25-29</td>\n",
       "      <td>10.24%</td>\n",
       "      <td>59</td>\n",
       "    </tr>\n",
       "    <tr>\n",
       "      <td>30-34</td>\n",
       "      <td>6.42%</td>\n",
       "      <td>37</td>\n",
       "    </tr>\n",
       "    <tr>\n",
       "      <td>35-39</td>\n",
       "      <td>4.51%</td>\n",
       "      <td>26</td>\n",
       "    </tr>\n",
       "    <tr>\n",
       "      <td>40+</td>\n",
       "      <td>1.22%</td>\n",
       "      <td>7</td>\n",
       "    </tr>\n",
       "  </tbody>\n",
       "</table>\n",
       "</div>"
      ],
      "text/plain": [
       "        Percentage of Total  Total Count\n",
       "0-10                  4.17%           24\n",
       "10-14                 7.12%           41\n",
       " 15-19               26.04%          150\n",
       "20-24                40.28%          232\n",
       "25-29                10.24%           59\n",
       "30-34                 6.42%           37\n",
       "35-39                 4.51%           26\n",
       "40+                   1.22%            7"
      ]
     },
     "execution_count": 514,
     "metadata": {},
     "output_type": "execute_result"
    }
   ],
   "source": [
    "age_bins = [0,10,15,20,25,30,35,40,99]\n",
    "\n",
    "age_groups = ['0-10', '10-14', ' 15-19', '20-24', '25-29','30-34', '35-39', '40+']\n",
    "\n",
    "purchase_data[\"Age Groups\"] = pd.cut(purchase_data[\"Age\"], age_bins, labels= age_groups)\n",
    "purchase_data\n",
    "\n",
    "#Create new df with age groups grouped together\n",
    "grouped_age = purchase_data.groupby(\"Age Group\")\n",
    "grouped_age.head()\n",
    "\n",
    "\n",
    "total_age = grouped_age[\"SN\"].nunique()\n",
    "\n",
    "pct_by_age = (total_age/total_players * 100)\n",
    "\n",
    "#Create new df with new values\n",
    "age_demo = pd.DataFrame({\"Percentage of Total\": pct_by_age,\n",
    "                        \"Total Count\": total_age})\n",
    "\n",
    "#Format df with no index column\n",
    "age_demo.index.name = None \n",
    "\n",
    "# age_demo.style.format({\"Percentage of Total\":\"{:,.2f}\"})\n",
    "pd.options.display.float_format = '{:.2f}%'.format\n",
    "\n",
    "age_demo"
   ]
  },
  {
   "cell_type": "markdown",
   "metadata": {},
   "source": [
    "## Purchasing Analysis (Age)"
   ]
  },
  {
   "cell_type": "markdown",
   "metadata": {},
   "source": [
    "* Bin the purchase_data data frame by age\n",
    "\n",
    "\n",
    "* Run basic calculations to obtain purchase count, avg. purchase price, avg. purchase total per person etc. in the table below\n",
    "\n",
    "\n",
    "* Create a summary data frame to hold the results\n",
    "\n",
    "\n",
    "* Optional: give the displayed data cleaner formatting\n",
    "\n",
    "\n",
    "* Display the summary data frame"
   ]
  },
  {
   "cell_type": "code",
   "execution_count": 424,
   "metadata": {},
   "outputs": [
    {
     "data": {
      "text/html": [
       "<style  type=\"text/css\" >\n",
       "</style><table id=\"T_2b9b1cde_06c8_11eb_a449_d0a637edc775\" ><thead>    <tr>        <th class=\"blank level0\" ></th>        <th class=\"col_heading level0 col0\" >Purchase Count</th>        <th class=\"col_heading level0 col1\" >Avg. Purchase Price</th>        <th class=\"col_heading level0 col2\" >Total Purchase Amount</th>        <th class=\"col_heading level0 col3\" >Avg. Purchase per Person</th>    </tr></thead><tbody>\n",
       "                <tr>\n",
       "                        <th id=\"T_2b9b1cde_06c8_11eb_a449_d0a637edc775level0_row0\" class=\"row_heading level0 row0\" >0-10</th>\n",
       "                        <td id=\"T_2b9b1cde_06c8_11eb_a449_d0a637edc775row0_col0\" class=\"data row0 col0\" >32</td>\n",
       "                        <td id=\"T_2b9b1cde_06c8_11eb_a449_d0a637edc775row0_col1\" class=\"data row0 col1\" >$3.40</td>\n",
       "                        <td id=\"T_2b9b1cde_06c8_11eb_a449_d0a637edc775row0_col2\" class=\"data row0 col2\" >$108.96</td>\n",
       "                        <td id=\"T_2b9b1cde_06c8_11eb_a449_d0a637edc775row0_col3\" class=\"data row0 col3\" >$4.54</td>\n",
       "            </tr>\n",
       "            <tr>\n",
       "                        <th id=\"T_2b9b1cde_06c8_11eb_a449_d0a637edc775level0_row1\" class=\"row_heading level0 row1\" >10-14</th>\n",
       "                        <td id=\"T_2b9b1cde_06c8_11eb_a449_d0a637edc775row1_col0\" class=\"data row1 col0\" >54</td>\n",
       "                        <td id=\"T_2b9b1cde_06c8_11eb_a449_d0a637edc775row1_col1\" class=\"data row1 col1\" >$2.90</td>\n",
       "                        <td id=\"T_2b9b1cde_06c8_11eb_a449_d0a637edc775row1_col2\" class=\"data row1 col2\" >$156.60</td>\n",
       "                        <td id=\"T_2b9b1cde_06c8_11eb_a449_d0a637edc775row1_col3\" class=\"data row1 col3\" >$3.82</td>\n",
       "            </tr>\n",
       "            <tr>\n",
       "                        <th id=\"T_2b9b1cde_06c8_11eb_a449_d0a637edc775level0_row2\" class=\"row_heading level0 row2\" > 15-19</th>\n",
       "                        <td id=\"T_2b9b1cde_06c8_11eb_a449_d0a637edc775row2_col0\" class=\"data row2 col0\" >200</td>\n",
       "                        <td id=\"T_2b9b1cde_06c8_11eb_a449_d0a637edc775row2_col1\" class=\"data row2 col1\" >$3.11</td>\n",
       "                        <td id=\"T_2b9b1cde_06c8_11eb_a449_d0a637edc775row2_col2\" class=\"data row2 col2\" >$621.56</td>\n",
       "                        <td id=\"T_2b9b1cde_06c8_11eb_a449_d0a637edc775row2_col3\" class=\"data row2 col3\" >$4.14</td>\n",
       "            </tr>\n",
       "            <tr>\n",
       "                        <th id=\"T_2b9b1cde_06c8_11eb_a449_d0a637edc775level0_row3\" class=\"row_heading level0 row3\" >20-24</th>\n",
       "                        <td id=\"T_2b9b1cde_06c8_11eb_a449_d0a637edc775row3_col0\" class=\"data row3 col0\" >325</td>\n",
       "                        <td id=\"T_2b9b1cde_06c8_11eb_a449_d0a637edc775row3_col1\" class=\"data row3 col1\" >$3.02</td>\n",
       "                        <td id=\"T_2b9b1cde_06c8_11eb_a449_d0a637edc775row3_col2\" class=\"data row3 col2\" >$981.64</td>\n",
       "                        <td id=\"T_2b9b1cde_06c8_11eb_a449_d0a637edc775row3_col3\" class=\"data row3 col3\" >$4.23</td>\n",
       "            </tr>\n",
       "            <tr>\n",
       "                        <th id=\"T_2b9b1cde_06c8_11eb_a449_d0a637edc775level0_row4\" class=\"row_heading level0 row4\" >25-29</th>\n",
       "                        <td id=\"T_2b9b1cde_06c8_11eb_a449_d0a637edc775row4_col0\" class=\"data row4 col0\" >77</td>\n",
       "                        <td id=\"T_2b9b1cde_06c8_11eb_a449_d0a637edc775row4_col1\" class=\"data row4 col1\" >$2.88</td>\n",
       "                        <td id=\"T_2b9b1cde_06c8_11eb_a449_d0a637edc775row4_col2\" class=\"data row4 col2\" >$221.42</td>\n",
       "                        <td id=\"T_2b9b1cde_06c8_11eb_a449_d0a637edc775row4_col3\" class=\"data row4 col3\" >$3.75</td>\n",
       "            </tr>\n",
       "            <tr>\n",
       "                        <th id=\"T_2b9b1cde_06c8_11eb_a449_d0a637edc775level0_row5\" class=\"row_heading level0 row5\" >30-34</th>\n",
       "                        <td id=\"T_2b9b1cde_06c8_11eb_a449_d0a637edc775row5_col0\" class=\"data row5 col0\" >52</td>\n",
       "                        <td id=\"T_2b9b1cde_06c8_11eb_a449_d0a637edc775row5_col1\" class=\"data row5 col1\" >$2.99</td>\n",
       "                        <td id=\"T_2b9b1cde_06c8_11eb_a449_d0a637edc775row5_col2\" class=\"data row5 col2\" >$155.71</td>\n",
       "                        <td id=\"T_2b9b1cde_06c8_11eb_a449_d0a637edc775row5_col3\" class=\"data row5 col3\" >$4.21</td>\n",
       "            </tr>\n",
       "            <tr>\n",
       "                        <th id=\"T_2b9b1cde_06c8_11eb_a449_d0a637edc775level0_row6\" class=\"row_heading level0 row6\" >35-39</th>\n",
       "                        <td id=\"T_2b9b1cde_06c8_11eb_a449_d0a637edc775row6_col0\" class=\"data row6 col0\" >33</td>\n",
       "                        <td id=\"T_2b9b1cde_06c8_11eb_a449_d0a637edc775row6_col1\" class=\"data row6 col1\" >$3.40</td>\n",
       "                        <td id=\"T_2b9b1cde_06c8_11eb_a449_d0a637edc775row6_col2\" class=\"data row6 col2\" >$112.35</td>\n",
       "                        <td id=\"T_2b9b1cde_06c8_11eb_a449_d0a637edc775row6_col3\" class=\"data row6 col3\" >$4.32</td>\n",
       "            </tr>\n",
       "            <tr>\n",
       "                        <th id=\"T_2b9b1cde_06c8_11eb_a449_d0a637edc775level0_row7\" class=\"row_heading level0 row7\" >40+</th>\n",
       "                        <td id=\"T_2b9b1cde_06c8_11eb_a449_d0a637edc775row7_col0\" class=\"data row7 col0\" >7</td>\n",
       "                        <td id=\"T_2b9b1cde_06c8_11eb_a449_d0a637edc775row7_col1\" class=\"data row7 col1\" >$3.08</td>\n",
       "                        <td id=\"T_2b9b1cde_06c8_11eb_a449_d0a637edc775row7_col2\" class=\"data row7 col2\" >$21.53</td>\n",
       "                        <td id=\"T_2b9b1cde_06c8_11eb_a449_d0a637edc775row7_col3\" class=\"data row7 col3\" >$3.08</td>\n",
       "            </tr>\n",
       "    </tbody></table>"
      ],
      "text/plain": [
       "<pandas.io.formats.style.Styler at 0x7fa75d2de410>"
      ]
     },
     "execution_count": 424,
     "metadata": {},
     "output_type": "execute_result"
    }
   ],
   "source": [
    "# Count purchases by age group\n",
    "purchase_count = grouped_age[\"Purchase ID\"].count()\n",
    "\n",
    "#Find average purchase price per age group\n",
    "avg_purchase_price_age = grouped_age[\"Price\"].mean()\n",
    "\n",
    "#Calculate total purchase value per age group\n",
    "total_purchase_value = grouped_age[\"Price\"].sum()\n",
    "\n",
    "#Calculate average purchase per person in age group \n",
    "avg_purchase_per_person = total_purchase_value / total_age \n",
    "\n",
    "age_group_table = pd.DataFrame({\"Purchase Count\":purchase_count,\n",
    "                                 \"Avg. Purchase Price\": avg_purchase_price_age,\n",
    "                                \"Total Purchase Amount\": total_purchase_value,\n",
    "                               \"Avg. Purchase per Person\": avg_purchase_per_person})\n",
    "age_group_table.head()\n",
    "\n",
    "age_group_table.index.name = None \n",
    "\n",
    "age_group_table.style.format({\"Avg. Purchase Price\":\"${:,.2f}\",\n",
    "                             \"Total Purchase Amount\":\"${:,.2f}\",\n",
    "                             \"Avg. Purchase per Person\":\"${:,.2f}\"})"
   ]
  },
  {
   "cell_type": "markdown",
   "metadata": {},
   "source": [
    "## Top Spenders"
   ]
  },
  {
   "cell_type": "markdown",
   "metadata": {},
   "source": [
    "* Run basic calculations to obtain the results in the table below\n",
    "\n",
    "\n",
    "* Create a summary data frame to hold the results\n",
    "\n",
    "\n",
    "* Sort the total purchase value column in descending order\n",
    "\n",
    "\n",
    "* Optional: give the displayed data cleaner formatting\n",
    "\n",
    "\n",
    "* Display a preview of the summary data frame\n",
    "\n"
   ]
  },
  {
   "cell_type": "code",
   "execution_count": 445,
   "metadata": {},
   "outputs": [
    {
     "data": {
      "text/html": [
       "<style  type=\"text/css\" >\n",
       "</style><table id=\"T_d786407c_06c9_11eb_a449_d0a637edc775\" ><thead>    <tr>        <th class=\"blank level0\" ></th>        <th class=\"col_heading level0 col0\" >Purchase Count</th>        <th class=\"col_heading level0 col1\" >Avg. Purchase Price</th>        <th class=\"col_heading level0 col2\" >Total Purchase Amount</th>    </tr>    <tr>        <th class=\"index_name level0\" >SN</th>        <th class=\"blank\" ></th>        <th class=\"blank\" ></th>        <th class=\"blank\" ></th>    </tr></thead><tbody>\n",
       "                <tr>\n",
       "                        <th id=\"T_d786407c_06c9_11eb_a449_d0a637edc775level0_row0\" class=\"row_heading level0 row0\" >Lisosia93</th>\n",
       "                        <td id=\"T_d786407c_06c9_11eb_a449_d0a637edc775row0_col0\" class=\"data row0 col0\" >5</td>\n",
       "                        <td id=\"T_d786407c_06c9_11eb_a449_d0a637edc775row0_col1\" class=\"data row0 col1\" >$3.79</td>\n",
       "                        <td id=\"T_d786407c_06c9_11eb_a449_d0a637edc775row0_col2\" class=\"data row0 col2\" >$18.96</td>\n",
       "            </tr>\n",
       "            <tr>\n",
       "                        <th id=\"T_d786407c_06c9_11eb_a449_d0a637edc775level0_row1\" class=\"row_heading level0 row1\" >Idastidru52</th>\n",
       "                        <td id=\"T_d786407c_06c9_11eb_a449_d0a637edc775row1_col0\" class=\"data row1 col0\" >4</td>\n",
       "                        <td id=\"T_d786407c_06c9_11eb_a449_d0a637edc775row1_col1\" class=\"data row1 col1\" >$3.86</td>\n",
       "                        <td id=\"T_d786407c_06c9_11eb_a449_d0a637edc775row1_col2\" class=\"data row1 col2\" >$15.45</td>\n",
       "            </tr>\n",
       "            <tr>\n",
       "                        <th id=\"T_d786407c_06c9_11eb_a449_d0a637edc775level0_row2\" class=\"row_heading level0 row2\" >Chamjask73</th>\n",
       "                        <td id=\"T_d786407c_06c9_11eb_a449_d0a637edc775row2_col0\" class=\"data row2 col0\" >3</td>\n",
       "                        <td id=\"T_d786407c_06c9_11eb_a449_d0a637edc775row2_col1\" class=\"data row2 col1\" >$4.61</td>\n",
       "                        <td id=\"T_d786407c_06c9_11eb_a449_d0a637edc775row2_col2\" class=\"data row2 col2\" >$13.83</td>\n",
       "            </tr>\n",
       "            <tr>\n",
       "                        <th id=\"T_d786407c_06c9_11eb_a449_d0a637edc775level0_row3\" class=\"row_heading level0 row3\" >Iral74</th>\n",
       "                        <td id=\"T_d786407c_06c9_11eb_a449_d0a637edc775row3_col0\" class=\"data row3 col0\" >4</td>\n",
       "                        <td id=\"T_d786407c_06c9_11eb_a449_d0a637edc775row3_col1\" class=\"data row3 col1\" >$3.40</td>\n",
       "                        <td id=\"T_d786407c_06c9_11eb_a449_d0a637edc775row3_col2\" class=\"data row3 col2\" >$13.62</td>\n",
       "            </tr>\n",
       "            <tr>\n",
       "                        <th id=\"T_d786407c_06c9_11eb_a449_d0a637edc775level0_row4\" class=\"row_heading level0 row4\" >Iskadarya95</th>\n",
       "                        <td id=\"T_d786407c_06c9_11eb_a449_d0a637edc775row4_col0\" class=\"data row4 col0\" >3</td>\n",
       "                        <td id=\"T_d786407c_06c9_11eb_a449_d0a637edc775row4_col1\" class=\"data row4 col1\" >$4.37</td>\n",
       "                        <td id=\"T_d786407c_06c9_11eb_a449_d0a637edc775row4_col2\" class=\"data row4 col2\" >$13.10</td>\n",
       "            </tr>\n",
       "    </tbody></table>"
      ],
      "text/plain": [
       "<pandas.io.formats.style.Styler at 0x7fa75d36fed0>"
      ]
     },
     "execution_count": 445,
     "metadata": {},
     "output_type": "execute_result"
    }
   ],
   "source": [
    "# Group original df by screen name\n",
    "big_spenders = purchase_data.groupby(\"SN\")\n",
    "\n",
    "purchase_count_spender = big_spenders[\"Purchase ID\"].count()\n",
    "\n",
    "avg_purchase_price_spender = big_spenders[\"Price\"].mean()\n",
    "\n",
    "purchase_total_spender = big_spenders[\"Price\"].sum()\n",
    "\n",
    "new_spender_df = pd.DataFrame({\"Purchase Count\":purchase_count_spender,\n",
    "                        \"Avg. Purchase Price\": avg_purchase_price_spender,\n",
    "                        \"Total Purchase Amount\": purchase_total_spender})\n",
    "\n",
    "#Sort in descending order to list top five spending players\n",
    "top_five = new_spender_df.sort_values([\"Total Purchase Amount\"],ascending=False).head(5)\n",
    "\n",
    "\n",
    "#Correct formatting with given values \n",
    "top_five.style.format({\"Avg. Purchase Price\":\"${:,.2f}\",\n",
    "                             \"Total Purchase Amount\":\"${:,.2f}\",\n",
    "                             \"Avg. Purchase per Person\":\"${:,.2f}\"})\n"
   ]
  },
  {
   "cell_type": "markdown",
   "metadata": {},
   "source": [
    "## Most Popular Items"
   ]
  },
  {
   "cell_type": "markdown",
   "metadata": {},
   "source": [
    "* Retrieve the Item ID, Item Name, and Item Price columns\n",
    "\n",
    "\n",
    "* Group by Item ID and Item Name. Perform calculations to obtain purchase count, average item price, and total purchase value\n",
    "\n",
    "\n",
    "* Create a summary data frame to hold the results\n",
    "\n",
    "\n",
    "* Sort the purchase count column in descending order\n",
    "\n",
    "\n",
    "* Optional: give the displayed data cleaner formatting\n",
    "\n",
    "\n",
    "* Display a preview of the summary data frame\n",
    "\n"
   ]
  },
  {
   "cell_type": "code",
   "execution_count": 526,
   "metadata": {},
   "outputs": [
    {
     "data": {
      "text/html": [
       "<style  type=\"text/css\" >\n",
       "</style><table id=\"T_e9e8e570_06cf_11eb_a449_d0a637edc775\" ><thead>    <tr>        <th class=\"blank\" ></th>        <th class=\"blank level0\" ></th>        <th class=\"col_heading level0 col0\" >Purchase Count</th>        <th class=\"col_heading level0 col1\" >Avg. Item Price</th>        <th class=\"col_heading level0 col2\" >Total Purchase</th>    </tr>    <tr>        <th class=\"index_name level0\" >Item ID</th>        <th class=\"index_name level1\" >Item Name</th>        <th class=\"blank\" ></th>        <th class=\"blank\" ></th>        <th class=\"blank\" ></th>    </tr></thead><tbody>\n",
       "                <tr>\n",
       "                        <th id=\"T_e9e8e570_06cf_11eb_a449_d0a637edc775level0_row0\" class=\"row_heading level0 row0\" >92</th>\n",
       "                        <th id=\"T_e9e8e570_06cf_11eb_a449_d0a637edc775level1_row0\" class=\"row_heading level1 row0\" >Final Critic</th>\n",
       "                        <td id=\"T_e9e8e570_06cf_11eb_a449_d0a637edc775row0_col0\" class=\"data row0 col0\" >13</td>\n",
       "                        <td id=\"T_e9e8e570_06cf_11eb_a449_d0a637edc775row0_col1\" class=\"data row0 col1\" >$4.61</td>\n",
       "                        <td id=\"T_e9e8e570_06cf_11eb_a449_d0a637edc775row0_col2\" class=\"data row0 col2\" >$59.99</td>\n",
       "            </tr>\n",
       "            <tr>\n",
       "                        <th id=\"T_e9e8e570_06cf_11eb_a449_d0a637edc775level0_row1\" class=\"row_heading level0 row1\" >178</th>\n",
       "                        <th id=\"T_e9e8e570_06cf_11eb_a449_d0a637edc775level1_row1\" class=\"row_heading level1 row1\" >Oathbreaker, Last Hope of the Breaking Storm</th>\n",
       "                        <td id=\"T_e9e8e570_06cf_11eb_a449_d0a637edc775row1_col0\" class=\"data row1 col0\" >12</td>\n",
       "                        <td id=\"T_e9e8e570_06cf_11eb_a449_d0a637edc775row1_col1\" class=\"data row1 col1\" >$4.23</td>\n",
       "                        <td id=\"T_e9e8e570_06cf_11eb_a449_d0a637edc775row1_col2\" class=\"data row1 col2\" >$50.76</td>\n",
       "            </tr>\n",
       "            <tr>\n",
       "                        <th id=\"T_e9e8e570_06cf_11eb_a449_d0a637edc775level0_row2\" class=\"row_heading level0 row2\" >145</th>\n",
       "                        <th id=\"T_e9e8e570_06cf_11eb_a449_d0a637edc775level1_row2\" class=\"row_heading level1 row2\" >Fiery Glass Crusader</th>\n",
       "                        <td id=\"T_e9e8e570_06cf_11eb_a449_d0a637edc775row2_col0\" class=\"data row2 col0\" >9</td>\n",
       "                        <td id=\"T_e9e8e570_06cf_11eb_a449_d0a637edc775row2_col1\" class=\"data row2 col1\" >$4.58</td>\n",
       "                        <td id=\"T_e9e8e570_06cf_11eb_a449_d0a637edc775row2_col2\" class=\"data row2 col2\" >$41.22</td>\n",
       "            </tr>\n",
       "            <tr>\n",
       "                        <th id=\"T_e9e8e570_06cf_11eb_a449_d0a637edc775level0_row3\" class=\"row_heading level0 row3\" >132</th>\n",
       "                        <th id=\"T_e9e8e570_06cf_11eb_a449_d0a637edc775level1_row3\" class=\"row_heading level1 row3\" >Persuasion</th>\n",
       "                        <td id=\"T_e9e8e570_06cf_11eb_a449_d0a637edc775row3_col0\" class=\"data row3 col0\" >9</td>\n",
       "                        <td id=\"T_e9e8e570_06cf_11eb_a449_d0a637edc775row3_col1\" class=\"data row3 col1\" >$3.22</td>\n",
       "                        <td id=\"T_e9e8e570_06cf_11eb_a449_d0a637edc775row3_col2\" class=\"data row3 col2\" >$28.99</td>\n",
       "            </tr>\n",
       "            <tr>\n",
       "                        <th id=\"T_e9e8e570_06cf_11eb_a449_d0a637edc775level0_row4\" class=\"row_heading level0 row4\" >108</th>\n",
       "                        <th id=\"T_e9e8e570_06cf_11eb_a449_d0a637edc775level1_row4\" class=\"row_heading level1 row4\" >Extraction, Quickblade Of Trembling Hands</th>\n",
       "                        <td id=\"T_e9e8e570_06cf_11eb_a449_d0a637edc775row4_col0\" class=\"data row4 col0\" >9</td>\n",
       "                        <td id=\"T_e9e8e570_06cf_11eb_a449_d0a637edc775row4_col1\" class=\"data row4 col1\" >$3.53</td>\n",
       "                        <td id=\"T_e9e8e570_06cf_11eb_a449_d0a637edc775row4_col2\" class=\"data row4 col2\" >$31.77</td>\n",
       "            </tr>\n",
       "    </tbody></table>"
      ],
      "text/plain": [
       "<pandas.io.formats.style.Styler at 0x7fa75d455910>"
      ]
     },
     "execution_count": 526,
     "metadata": {},
     "output_type": "execute_result"
    }
   ],
   "source": [
    "# Retrieve Item ID, Item Name, and Item Price columns \n",
    "top_items = purchase_data[[\"Item ID\", \"Item Name\", \"Price\"]]\n",
    "\n",
    "# Group top_items by Item ID and Item Name \n",
    "grouped_items = top_items.groupby([\"Item ID\",\"Item Name\"])\n",
    "\n",
    "# Count total purchase count \n",
    "item_purchase_count = grouped_items[\"Price\"].count()\n",
    "\n",
    "# Purchase value per item \n",
    "purchase_value = grouped_items[\"Price\"].sum()\n",
    "\n",
    "# Average item price \n",
    "avg_item_price = (purchase_value / item_purchase_count).round(2)\n",
    "\n",
    "# Create new df with new values \n",
    "most_pop_items = pd.DataFrame({\"Purchase Count\": item_purchase_count,\n",
    "                               \"Avg. Item Price\": avg_item_price,\n",
    "                               \"Total Purchase\": purchase_value})\n",
    "\n",
    "# Sort purchase count column in descending order \n",
    "formatted_pop_items = most_pop_items.sort_values([\"Purchase Count\"], ascending=False).head(5)\n",
    "\n",
    "# Format with currency\n",
    "formatted_pop_items.style.format({'Avg. Item Price':\"${:,.2f}\",\n",
    "                                 'Total Purchase':\"${:,.2f}\"})"
   ]
  },
  {
   "cell_type": "markdown",
   "metadata": {},
   "source": [
    "## Most Profitable Items"
   ]
  },
  {
   "cell_type": "markdown",
   "metadata": {},
   "source": [
    "* Sort the above table by total purchase value in descending order\n",
    "\n",
    "\n",
    "* Optional: give the displayed data cleaner formatting\n",
    "\n",
    "\n",
    "* Display a preview of the data frame\n",
    "\n"
   ]
  },
  {
   "cell_type": "code",
   "execution_count": 527,
   "metadata": {
    "scrolled": true
   },
   "outputs": [
    {
     "data": {
      "text/html": [
       "<style  type=\"text/css\" >\n",
       "</style><table id=\"T_fbf97752_06cf_11eb_a449_d0a637edc775\" ><thead>    <tr>        <th class=\"blank\" ></th>        <th class=\"blank level0\" ></th>        <th class=\"col_heading level0 col0\" >Purchase Count</th>        <th class=\"col_heading level0 col1\" >Avg. Item Price</th>        <th class=\"col_heading level0 col2\" >Total Purchase</th>    </tr>    <tr>        <th class=\"index_name level0\" >Item ID</th>        <th class=\"index_name level1\" >Item Name</th>        <th class=\"blank\" ></th>        <th class=\"blank\" ></th>        <th class=\"blank\" ></th>    </tr></thead><tbody>\n",
       "                <tr>\n",
       "                        <th id=\"T_fbf97752_06cf_11eb_a449_d0a637edc775level0_row0\" class=\"row_heading level0 row0\" >92</th>\n",
       "                        <th id=\"T_fbf97752_06cf_11eb_a449_d0a637edc775level1_row0\" class=\"row_heading level1 row0\" >Final Critic</th>\n",
       "                        <td id=\"T_fbf97752_06cf_11eb_a449_d0a637edc775row0_col0\" class=\"data row0 col0\" >13</td>\n",
       "                        <td id=\"T_fbf97752_06cf_11eb_a449_d0a637edc775row0_col1\" class=\"data row0 col1\" >$4.61</td>\n",
       "                        <td id=\"T_fbf97752_06cf_11eb_a449_d0a637edc775row0_col2\" class=\"data row0 col2\" >$59.99</td>\n",
       "            </tr>\n",
       "            <tr>\n",
       "                        <th id=\"T_fbf97752_06cf_11eb_a449_d0a637edc775level0_row1\" class=\"row_heading level0 row1\" >178</th>\n",
       "                        <th id=\"T_fbf97752_06cf_11eb_a449_d0a637edc775level1_row1\" class=\"row_heading level1 row1\" >Oathbreaker, Last Hope of the Breaking Storm</th>\n",
       "                        <td id=\"T_fbf97752_06cf_11eb_a449_d0a637edc775row1_col0\" class=\"data row1 col0\" >12</td>\n",
       "                        <td id=\"T_fbf97752_06cf_11eb_a449_d0a637edc775row1_col1\" class=\"data row1 col1\" >$4.23</td>\n",
       "                        <td id=\"T_fbf97752_06cf_11eb_a449_d0a637edc775row1_col2\" class=\"data row1 col2\" >$50.76</td>\n",
       "            </tr>\n",
       "            <tr>\n",
       "                        <th id=\"T_fbf97752_06cf_11eb_a449_d0a637edc775level0_row2\" class=\"row_heading level0 row2\" >145</th>\n",
       "                        <th id=\"T_fbf97752_06cf_11eb_a449_d0a637edc775level1_row2\" class=\"row_heading level1 row2\" >Fiery Glass Crusader</th>\n",
       "                        <td id=\"T_fbf97752_06cf_11eb_a449_d0a637edc775row2_col0\" class=\"data row2 col0\" >9</td>\n",
       "                        <td id=\"T_fbf97752_06cf_11eb_a449_d0a637edc775row2_col1\" class=\"data row2 col1\" >$4.58</td>\n",
       "                        <td id=\"T_fbf97752_06cf_11eb_a449_d0a637edc775row2_col2\" class=\"data row2 col2\" >$41.22</td>\n",
       "            </tr>\n",
       "            <tr>\n",
       "                        <th id=\"T_fbf97752_06cf_11eb_a449_d0a637edc775level0_row3\" class=\"row_heading level0 row3\" >108</th>\n",
       "                        <th id=\"T_fbf97752_06cf_11eb_a449_d0a637edc775level1_row3\" class=\"row_heading level1 row3\" >Extraction, Quickblade Of Trembling Hands</th>\n",
       "                        <td id=\"T_fbf97752_06cf_11eb_a449_d0a637edc775row3_col0\" class=\"data row3 col0\" >9</td>\n",
       "                        <td id=\"T_fbf97752_06cf_11eb_a449_d0a637edc775row3_col1\" class=\"data row3 col1\" >$3.53</td>\n",
       "                        <td id=\"T_fbf97752_06cf_11eb_a449_d0a637edc775row3_col2\" class=\"data row3 col2\" >$31.77</td>\n",
       "            </tr>\n",
       "            <tr>\n",
       "                        <th id=\"T_fbf97752_06cf_11eb_a449_d0a637edc775level0_row4\" class=\"row_heading level0 row4\" >132</th>\n",
       "                        <th id=\"T_fbf97752_06cf_11eb_a449_d0a637edc775level1_row4\" class=\"row_heading level1 row4\" >Persuasion</th>\n",
       "                        <td id=\"T_fbf97752_06cf_11eb_a449_d0a637edc775row4_col0\" class=\"data row4 col0\" >9</td>\n",
       "                        <td id=\"T_fbf97752_06cf_11eb_a449_d0a637edc775row4_col1\" class=\"data row4 col1\" >$3.22</td>\n",
       "                        <td id=\"T_fbf97752_06cf_11eb_a449_d0a637edc775row4_col2\" class=\"data row4 col2\" >$28.99</td>\n",
       "            </tr>\n",
       "    </tbody></table>"
      ],
      "text/plain": [
       "<pandas.io.formats.style.Styler at 0x7fa75c682610>"
      ]
     },
     "execution_count": 527,
     "metadata": {},
     "output_type": "execute_result"
    }
   ],
   "source": [
    "most_profitable = formatted_pop_items.sort_values('Total Purchase',ascending=False)\n",
    "most_profitable.head()\n",
    "\n",
    "most_profitable.style.format({'Avg. Item Price':'${:,.2f}',\n",
    "                                 'Total Purchase':'${:,.2f}'})"
   ]
  },
  {
   "cell_type": "code",
   "execution_count": null,
   "metadata": {},
   "outputs": [],
   "source": []
  }
 ],
 "metadata": {
  "anaconda-cloud": {},
  "kernel_info": {
   "name": "python3"
  },
  "kernelspec": {
   "display_name": "Python 3",
   "language": "python",
   "name": "python3"
  },
  "language_info": {
   "codemirror_mode": {
    "name": "ipython",
    "version": 3
   },
   "file_extension": ".py",
   "mimetype": "text/x-python",
   "name": "python",
   "nbconvert_exporter": "python",
   "pygments_lexer": "ipython3",
   "version": "3.7.4"
  },
  "latex_envs": {
   "LaTeX_envs_menu_present": true,
   "autoclose": false,
   "autocomplete": true,
   "bibliofile": "biblio.bib",
   "cite_by": "apalike",
   "current_citInitial": 1,
   "eqLabelWithNumbers": true,
   "eqNumInitial": 1,
   "hotkeys": {
    "equation": "Ctrl-E",
    "itemize": "Ctrl-I"
   },
   "labels_anchors": false,
   "latex_user_defs": false,
   "report_style_numbering": false,
   "user_envs_cfg": false
  },
  "nteract": {
   "version": "0.2.0"
  }
 },
 "nbformat": 4,
 "nbformat_minor": 2
}
